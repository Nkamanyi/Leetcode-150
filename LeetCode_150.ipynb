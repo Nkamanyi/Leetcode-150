{
  "cells": [
    {
      "cell_type": "markdown",
      "metadata": {
        "id": "view-in-github",
        "colab_type": "text"
      },
      "source": [
        "<a href=\"https://colab.research.google.com/github/Nkamanyi/Leetcode-150/blob/main/LeetCode_150.ipynb\" target=\"_parent\"><img src=\"https://colab.research.google.com/assets/colab-badge.svg\" alt=\"Open In Colab\"/></a>"
      ]
    },
    {
      "cell_type": "markdown",
      "source": [
        "# **ARRAY & HASHMAP**"
      ],
      "metadata": {
        "id": "sO7JMyhIMoQS"
      }
    },
    {
      "cell_type": "markdown",
      "source": [
        "### **217. Contains Duplicate**"
      ],
      "metadata": {
        "id": "rXoDEUT0Mxu6"
      }
    },
    {
      "cell_type": "code",
      "source": [
        "# 1. Brute Force\n",
        "\n",
        "class Solution:\n",
        "  def hasDuplicates(self, nums: list[int]) -> bool:\n",
        "    for i in range(len(nums)):\n",
        "      for j in range(i + 1, len(nums)):\n",
        "        if nums[i] == nums[j]:\n",
        "          return True\n",
        "    return False\n",
        "\n",
        "# Time and Space Complexity\n",
        "  \"\"\"\n",
        "  Time Complexity: O(n^2)\n",
        "  Space Complexity: O(1)\n",
        "  \"\"\"\n",
        "# Work Example\n",
        "  nums = [1, 2, 3, 3]\n",
        "  solution = Solution()\n",
        "  print(solution.hasDuplicates(nums))"
      ],
      "metadata": {
        "id": "iHtKYbvFM26T",
        "colab": {
          "base_uri": "https://localhost:8080/"
        },
        "outputId": "f4e8f81b-670c-4502-c90d-461e23d491d1"
      },
      "execution_count": null,
      "outputs": [
        {
          "output_type": "stream",
          "name": "stdout",
          "text": [
            "True\n"
          ]
        }
      ]
    },
    {
      "cell_type": "code",
      "source": [
        "# 2. Sorting\n",
        "\n",
        "class Solution:\n",
        "  def hasDuplicates(self, nums: list[int]) -> bool:\n",
        "    nums.sort()\n",
        "    for i in range(1, len(nums)):\n",
        "      if nums[i] == nums[i - 1]:\n",
        "        return True\n",
        "    return False\n",
        "\n",
        "# Time and Space Complexity\n",
        "  \"\"\"\n",
        "  Time Complexity: O(nlogn)\n",
        "  Space Complexity: O(1) or O(n)\n",
        "  \"\"\"\n",
        "# Work Example\n",
        "  nums = [1, 2, 3, 3]\n",
        "  solution = Solution()\n",
        "  print(solution.hasDuplicates(nums))\n"
      ],
      "metadata": {
        "colab": {
          "base_uri": "https://localhost:8080/"
        },
        "id": "th3vuR_XVJjc",
        "outputId": "c754ea47-2e8e-45e5-8a24-7c626025cce6"
      },
      "execution_count": null,
      "outputs": [
        {
          "output_type": "stream",
          "name": "stdout",
          "text": [
            "True\n"
          ]
        }
      ]
    },
    {
      "cell_type": "code",
      "source": [
        "# 3. Hash Set\n",
        "\n",
        "class Solution:\n",
        "  def hasDuplicates(self, nums: list[int]) -> bool:\n",
        "    hashSet = set()\n",
        "    for num in nums:\n",
        "      if num in hashSet:\n",
        "        return True\n",
        "      hashSet.add(num)\n",
        "    return False\n",
        "\n",
        "# Time and Space Complexity\n",
        "  \"\"\"\n",
        "  Time Complexity: O(n)\n",
        "  Space Complexity: O(n)\n",
        "  \"\"\"\n",
        "\n",
        "# Work Example\n",
        "\n",
        "nums = [1, 2, 3, 3]\n",
        "solution = Solution()\n",
        "print(solution.hasDuplicates(nums))"
      ],
      "metadata": {
        "colab": {
          "base_uri": "https://localhost:8080/"
        },
        "id": "FoaTL2WabVM4",
        "outputId": "adf713a6-f188-43d9-99dc-131ad517ea1b"
      },
      "execution_count": null,
      "outputs": [
        {
          "output_type": "stream",
          "name": "stdout",
          "text": [
            "True\n"
          ]
        }
      ]
    },
    {
      "cell_type": "code",
      "source": [
        "# 4. Hash Set length\n",
        "class Solution:\n",
        "  def hasDuplicates(self, nums: list[nums]) -> bool:\n",
        "    return len(nums) != len(set(nums))\n",
        "\n",
        "# Time and Space Complexity\n",
        "    \"\"\"\n",
        "    Time Complexity: O(n)\n",
        "    Space Complexity: O(n)\n",
        "    \"\"\"\n",
        "# Work Example\n",
        "nums = [1, 2, 3, 3]\n",
        "solution = Solution()\n",
        "print(solution.hasDuplicates(nums))\n"
      ],
      "metadata": {
        "colab": {
          "base_uri": "https://localhost:8080/"
        },
        "id": "dMPw3qsUfTH-",
        "outputId": "d5b23960-c2f0-4b7f-c787-42c9711da8b6"
      },
      "execution_count": null,
      "outputs": [
        {
          "output_type": "stream",
          "name": "stdout",
          "text": [
            "True\n"
          ]
        }
      ]
    },
    {
      "cell_type": "markdown",
      "source": [
        "### **242. Valid Anagram**"
      ],
      "metadata": {
        "id": "HzyjIy0vkFD_"
      }
    },
    {
      "cell_type": "code",
      "source": [
        "# 1. Sorting\n",
        "\n",
        "class Solution:\n",
        "  def isAnagram(self, s: str, t: str) -> bool:\n",
        "    return sorted(s) == sorted(t)\n",
        "\n",
        "# Time and Space Complexity\n",
        "  \"\"\"\n",
        "  Time Complexity: O(nlogn+mlogm)\n",
        "  Space Complexity: O(n)\n",
        "  \"\"\"\n",
        "\n",
        "# Work Example\n",
        "s = \"anagram\"\n",
        "t = \"nagaram\"\n",
        "solution = Solution()\n",
        "print(solution.isAnagram(s, t))\n"
      ],
      "metadata": {
        "colab": {
          "base_uri": "https://localhost:8080/"
        },
        "id": "W62WflxekPTT",
        "outputId": "a71c68ec-4e63-4f5d-f489-d904caf74595"
      },
      "execution_count": null,
      "outputs": [
        {
          "output_type": "stream",
          "name": "stdout",
          "text": [
            "True\n"
          ]
        }
      ]
    },
    {
      "cell_type": "code",
      "source": [
        "# 2. Hash Map\n",
        "\n",
        "class Solution:\n",
        "  def isAnagram(self, s: str, t: str)-> bool:\n",
        "    if len(s) != len(t):\n",
        "      return False\n",
        "\n",
        "    countS, countT = {}, {}\n",
        "    for i in range(len(s)):\n",
        "      countS[s[i]] = countS.get(s[i], 0) + 1\n",
        "      countT[t[i]] = countT.get(t[i], 0) + 1\n",
        "    return countS == countT\n",
        "\n",
        "# Time and Space Complexity\n",
        "  \"\"\"\n",
        "  Time Complexity: O(n+m)\n",
        "  Space Complexity: O(1)\n",
        "  \"\"\"\n",
        "\n",
        "# Work Example\n",
        "s = \"anagram\"\n",
        "t = \"nagaram\"\n",
        "solution = Solution()\n",
        "print(solution.isAnagram(s, t))\n"
      ],
      "metadata": {
        "colab": {
          "base_uri": "https://localhost:8080/"
        },
        "id": "wjX9tg3wne5a",
        "outputId": "5dca9e15-a40d-41d9-b9b6-3e805902e952"
      },
      "execution_count": null,
      "outputs": [
        {
          "output_type": "stream",
          "name": "stdout",
          "text": [
            "True\n"
          ]
        }
      ]
    },
    {
      "cell_type": "code",
      "source": [
        "# 3. Hash Map Function \"Count\"\n",
        "from collections import Counter\n",
        "\n",
        "class Solution:\n",
        "  def isAnagram(self, s: str, t: str)-> bool:\n",
        "    return Counter(s) == Counter(t)\n",
        "\n",
        "\n",
        "# Time and Space Complexity\n",
        "  \"\"\"\n",
        "  Time Complexity: O(n+m)\n",
        "  Space Complexity: O(1)\n",
        "  \"\"\"\n",
        "\n",
        "# Work Example\n",
        "s = \"anagram\"\n",
        "t = \"nagaram\"\n",
        "solution = Solution()\n",
        "print(solution.isAnagram(s, t))\n"
      ],
      "metadata": {
        "colab": {
          "base_uri": "https://localhost:8080/"
        },
        "id": "hjKwWkL01Rby",
        "outputId": "0addc543-947f-462a-80c9-aade854b0189"
      },
      "execution_count": null,
      "outputs": [
        {
          "output_type": "stream",
          "name": "stdout",
          "text": [
            "True\n"
          ]
        }
      ]
    },
    {
      "cell_type": "markdown",
      "source": [
        "### **1. Two Sum**"
      ],
      "metadata": {
        "id": "DBrf8UZoxf6-"
      }
    },
    {
      "cell_type": "code",
      "source": [
        "# 1. Brute Force\n",
        "\n",
        "class Solution:\n",
        "  def twoSum(self, nums: list[int], target: int) -> list[int]:\n",
        "    for i in range(len(nums)):\n",
        "      for j in range(i + 1, len(nums)):\n",
        "        if nums[i] + nums[j] == target:\n",
        "          return [i, j]\n",
        "    return []\n",
        "\n",
        "# Time and Space Complexity\n",
        "  \"\"\"\n",
        "  Time Complexity: O(n^2)\n",
        "  Space Complexity: O(1)\n",
        "  \"\"\"\n",
        "\n",
        "# Work Example\n",
        "nums = [2, 7, 11, 15]\n",
        "target = 9\n",
        "solution = Solution()\n",
        "print(solution.twoSum(nums, target))\n",
        "\n"
      ],
      "metadata": {
        "colab": {
          "base_uri": "https://localhost:8080/"
        },
        "id": "txwmKSOK-Tgb",
        "outputId": "35fd03d4-57d6-46e6-f3a8-66d33294b42e"
      },
      "execution_count": null,
      "outputs": [
        {
          "output_type": "stream",
          "name": "stdout",
          "text": [
            "[0, 1]\n"
          ]
        }
      ]
    },
    {
      "cell_type": "code",
      "source": [
        "# 2. Hash Map (One Pass)\n",
        "\n",
        "class Solution:\n",
        "  def twoSum(self, nums: list[int], target: int) -> list[int]:\n",
        "\n",
        "    hashmap = {}\n",
        "\n",
        "    for i, num in enumerate(nums):\n",
        "      diff = target - num\n",
        "      if diff in hashmap:\n",
        "        return [hashmap[diff], i]\n",
        "      hashmap[num] = i\n",
        "\n",
        "# Time and Space Complexity\n",
        "  \"\"\"\n",
        "  Time Complexity: O(n)\n",
        "  Space Complexity: O(n)\n",
        "  \"\"\"\n",
        "\n",
        "# Work Example\n",
        "nums = [2, 7, 11, 15]\n",
        "target = 9\n",
        "solution = Solution()\n",
        "print(solution.twoSum(nums, target))\n",
        "\n",
        "\n"
      ],
      "metadata": {
        "colab": {
          "base_uri": "https://localhost:8080/"
        },
        "id": "m4kvPrTTB6b0",
        "outputId": "ec5c5a89-ed80-47fa-b779-2d32383352fb"
      },
      "execution_count": null,
      "outputs": [
        {
          "output_type": "stream",
          "name": "stdout",
          "text": [
            "[0, 1]\n"
          ]
        }
      ]
    },
    {
      "cell_type": "markdown",
      "source": [
        "### **49. Group Anagrams**"
      ],
      "metadata": {
        "id": "80K7es9GAt1e"
      }
    },
    {
      "cell_type": "code",
      "source": [
        "# 1. Sorting\n",
        "\n",
        "from collections import defaultdict\n",
        "class Solution:\n",
        "  def groupAnagrams(self, strs: list[str]) -> list[list[str]]:\n",
        "    res = defaultdict(list)\n",
        "\n",
        "    for s in strs:\n",
        "      sorted_s = ''.join(sorted(s)) # sorted() returns a list, so we want to convert it back to a string.\n",
        "      res[sorted_s].append(s)\n",
        "    return list(res.values())\n",
        "\n",
        "# Work Example\n",
        "strs = [\"act\",\"pots\",\"tops\",\"cat\",\"stop\",\"hat\"]\n",
        "solution = Solution()\n",
        "print(solution.groupAnagrams(strs))"
      ],
      "metadata": {
        "colab": {
          "base_uri": "https://localhost:8080/"
        },
        "id": "NoFi3nnxA6hK",
        "outputId": "a04768a7-c67e-44ab-a9d7-357df58f9e2c"
      },
      "execution_count": null,
      "outputs": [
        {
          "output_type": "stream",
          "name": "stdout",
          "text": [
            "[['act', 'cat'], ['pots', 'tops', 'stop'], ['hat']]\n"
          ]
        }
      ]
    },
    {
      "cell_type": "code",
      "source": [],
      "metadata": {
        "id": "X-s38ZiBXPr-"
      },
      "execution_count": null,
      "outputs": []
    },
    {
      "cell_type": "markdown",
      "source": [
        "### **347. Top K Frequent Elements**"
      ],
      "metadata": {
        "id": "LXHFv12Jbq4i"
      }
    },
    {
      "cell_type": "code",
      "source": [
        "# 1. Bucket Sort\n",
        "from collections import Counter\n",
        "\n",
        "class Solution:\n",
        "  def topKFrequentElements(self, nums: list[int], k) -> list[int]:\n",
        "\n",
        "      counter = Counter(nums)\n",
        "\n",
        "# Frequency bucket\n",
        "      bucket = [[] for _ in range(len(nums) + 1)]\n",
        "      for num, freq in counter.items():\n",
        "        bucket[freq].append(num)\n",
        "\n",
        "# Collect k from frequency\n",
        "      res = []\n",
        "      for i in range(len(bucket) - 1, 0, -1):\n",
        "        for n in bucket[i]:\n",
        "          res.append(n)\n",
        "          if len(res) == k:\n",
        "            return res\n",
        "\n",
        "# Time and Space Complexity\n",
        "  \"\"\"\n",
        "  Time Complexity: O(n)\n",
        "  Space Complexity: O(n)\n",
        "  \"\"\"\n",
        "\n",
        "\n",
        "# Work Example\n",
        "\n",
        "nums, k = [1,2,2,3,3,3], 2\n",
        "\n",
        "solution = Solution()\n",
        "print(solution.topKFrequentElements(nums, k))"
      ],
      "metadata": {
        "colab": {
          "base_uri": "https://localhost:8080/"
        },
        "id": "S5iRHFd2buJf",
        "outputId": "39db781f-6572-4354-847e-7a06354fe6e7"
      },
      "execution_count": null,
      "outputs": [
        {
          "output_type": "stream",
          "name": "stdout",
          "text": [
            "[3, 2]\n"
          ]
        }
      ]
    },
    {
      "cell_type": "code",
      "source": [
        "# 2. Sorting\n",
        "\n",
        "class Solution:\n",
        "  def topKFrequentElements(self, nums: list[int], k: int) -> list[int]:\n",
        "        count = {}\n",
        "        for num in nums:\n",
        "          count[num] = 1 + count.get(num, 0)\n",
        "\n",
        "        arr = []\n",
        "        for num, cnt in count.items():\n",
        "          arr.append([cnt, num])\n",
        "        arr.sort()\n",
        "\n",
        "        res = []\n",
        "        while len(res) < k:\n",
        "          res.append(arr.pop()[1])\n",
        "        return res\n",
        "\n",
        "\n",
        "# Time and Space Complexity\n",
        "  \"\"\"\n",
        "  Time Complexity: O(nlogn)\n",
        "  Space Complexity: O(n)\n",
        "  \"\"\"\n",
        "\n",
        "\n",
        "# Work Example\n",
        "\n",
        "nums, k = [1,2,2,3,3,3], 2\n",
        "\n",
        "solution = Solution()\n",
        "print(solution.topKFrequentElements(nums, k))"
      ],
      "metadata": {
        "colab": {
          "base_uri": "https://localhost:8080/"
        },
        "id": "TmFBlETfRMav",
        "outputId": "38529d79-44eb-4253-f328-ca7924a3635d"
      },
      "execution_count": null,
      "outputs": [
        {
          "output_type": "stream",
          "name": "stdout",
          "text": [
            "[3, 2]\n"
          ]
        }
      ]
    },
    {
      "cell_type": "code",
      "source": [
        "# 3. Min-Heap\n",
        "import heapq\n",
        "\n",
        "class Solution:\n",
        "  def topKFrequentElements(self, nums: list[int], k: int) -> list[int]:\n",
        "      count = {}\n",
        "      for num in nums:\n",
        "        count[num] = 1 + count.get(num, 0)\n",
        "\n",
        "      heap = []\n",
        "      for num in count.keys():\n",
        "        heapq.heappush(heap, (count[num], num))\n",
        "        if len(heap) > k:\n",
        "          heapq.heappop(heap)\n",
        "\n",
        "      res = []\n",
        "      for i in range(k):\n",
        "        res.append(heapq.heappop(heap)[1])\n",
        "      return res\n",
        "\n",
        "# Time and Space Complexity\n",
        "  \"\"\"\n",
        "  Time Complexity: O(nlogn)\n",
        "  Space Complexity: O(n)\n",
        "  \"\"\"\n",
        "\n",
        "\n",
        "# Work Example\n",
        "\n",
        "nums, k = [1,2,2,3,3,3], 2\n",
        "\n",
        "solution = Solution()\n",
        "print(solution.topKFrequentElements(nums, k))"
      ],
      "metadata": {
        "colab": {
          "base_uri": "https://localhost:8080/"
        },
        "id": "glMxm2zaWG4g",
        "outputId": "00c06bd5-70a3-4065-c2fa-60b47cc16af2"
      },
      "execution_count": null,
      "outputs": [
        {
          "output_type": "stream",
          "name": "stdout",
          "text": [
            "[2, 3]\n"
          ]
        }
      ]
    },
    {
      "cell_type": "markdown",
      "source": [
        "### **271. Encode and Decode Strings**"
      ],
      "metadata": {
        "id": "Pgsgm8UPgAWK"
      }
    },
    {
      "cell_type": "code",
      "source": [
        "class Solution:\n",
        "  def encode(self, strs: list[str]) -> str:\n",
        "\n",
        "    res = \"\"\n",
        "    for s in strs:\n",
        "      res += str(len(s)) + \"#\" + s\n",
        "    return res\n",
        "\n",
        "  def decode(self, s: str) -> list[str]:\n",
        "    res = []\n",
        "    i = 0\n",
        "\n",
        "    while i < len(s):\n",
        "      j = i\n",
        "      while s[j] != '#':\n",
        "        j += 1\n",
        "        length = int(s[i:j])\n",
        "        i = j + 1\n",
        "        j = i + length\n",
        "        res.append(s[i:j])\n",
        "        i = j\n",
        "\n",
        "    return res\n",
        "\n",
        "# Time and Space Complexity\n",
        "  \"\"\"\n",
        "  Time Complexity: O(m)\n",
        "  Space Complexity: O(m+n)\n",
        "  \"\"\"\n",
        "\n",
        "\n",
        "# Work Example\n",
        "\n",
        "strs = [\"lint\",\"code\",\"love\",\"you\"]\n",
        "solution = Solution()\n",
        "print(solution.encode(strs))"
      ],
      "metadata": {
        "id": "Xdlfgc5mgL-F",
        "colab": {
          "base_uri": "https://localhost:8080/"
        },
        "outputId": "4805e590-555f-4d4e-b24f-926d9dcd6b0e"
      },
      "execution_count": null,
      "outputs": [
        {
          "output_type": "stream",
          "name": "stdout",
          "text": [
            "4#lint4#code4#love3#you\n"
          ]
        }
      ]
    },
    {
      "cell_type": "markdown",
      "source": [
        "### **238. Product of Array Except Self**"
      ],
      "metadata": {
        "id": "CdeZA_wwc5YE"
      }
    },
    {
      "cell_type": "code",
      "source": [
        "# 1. Brute Force\n",
        "\n",
        "class Solution:\n",
        "  def productExceptSelf(self, nums: list[int]) -> list[int]:\n",
        "    n = len(nums)\n",
        "    res = [0] * n\n",
        "\n",
        "    for i in range(n):\n",
        "      prod = 1\n",
        "      for j in range(n):\n",
        "        if i == j:\n",
        "          continue\n",
        "        prod *= nums[j]\n",
        "      res[i] = prod\n",
        "    return res\n",
        "\n",
        "# Time and Space Complexity\n",
        "  \"\"\"\n",
        "  Time Complexity: O(n^2)\n",
        "  Space Complexity:\n",
        "    - O(1) extra space.\n",
        "    - O(n) for the output array.\n",
        "\n",
        "  \"\"\"\n",
        "\n",
        "\n",
        "# Work Example\n",
        "\n",
        "nums = [1,2,4,6]\n",
        "solution = Solution()\n",
        "print(solution.productExceptSelf(nums))"
      ],
      "metadata": {
        "colab": {
          "base_uri": "https://localhost:8080/"
        },
        "id": "iGBocpuydHaM",
        "outputId": "932e2bbe-ebf5-40cb-fe7a-a6b2eabad292"
      },
      "execution_count": null,
      "outputs": [
        {
          "output_type": "stream",
          "name": "stdout",
          "text": [
            "[48, 24, 12, 8]\n"
          ]
        }
      ]
    },
    {
      "cell_type": "code",
      "source": [
        "# 2. Division\n",
        "\n",
        "class Solution:\n",
        "  def productExceptSelf(self, nums: list[int]) -> list[int]:\n",
        "    prod, zero_cnt = 1, 0\n",
        "    for num in nums:\n",
        "      if num:\n",
        "        prod *= num\n",
        "      else:\n",
        "        zero_cnt += 1\n",
        "    if zero_cnt > 1:\n",
        "      return [0] * len(nums)\n",
        "\n",
        "    res = [0] * len(nums)\n",
        "    for i, c in enumerate(nums):\n",
        "      if zero_cnt: res[i] = 0 if c else prod\n",
        "      else: res[i] = prod // c\n",
        "    return res\n",
        "\n",
        "# Time and Space Complexity\n",
        "  \"\"\"\n",
        "  Time Complexity: O(n)\n",
        "  Space Complexity:\n",
        "    - O(1) extra space.\n",
        "    - O(n) for the output array.\n",
        "\n",
        "  \"\"\"\n",
        "\n",
        "\n",
        "# Work Example\n",
        "\n",
        "nums = [1,2,4,6]\n",
        "solution = Solution()\n",
        "print(solution.productExceptSelf(nums))"
      ],
      "metadata": {
        "colab": {
          "base_uri": "https://localhost:8080/"
        },
        "id": "ooZVW1etvPTK",
        "outputId": "b1b14b25-4275-4e91-f40b-0925861eb6bf"
      },
      "execution_count": null,
      "outputs": [
        {
          "output_type": "stream",
          "name": "stdout",
          "text": [
            "[48, 24, 12, 8]\n"
          ]
        }
      ]
    },
    {
      "cell_type": "code",
      "source": [
        "# 3. Prefix & Suffix\n",
        "\n",
        "class Solution:\n",
        "  def productExceptSelf(self, nums: list[int]) -> list[int]:\n",
        "    res = [1] * len(nums)\n",
        "\n",
        "    prefix, suffix = 1, 1\n",
        "\n",
        "    for i in range(len(nums)):\n",
        "      res[i] = prefix\n",
        "      prefix *= nums[i]\n",
        "    postfix = 1\n",
        "\n",
        "    for i in range(len(nums) -1, -1, -1):\n",
        "      res[i] *= postfix\n",
        "      postfix *= nums[i]\n",
        "    return res\n",
        "\n",
        "# Time and Space Complexity\n",
        "  \"\"\"\n",
        "  Time Complexity: O(n)\n",
        "  Space Complexity:\n",
        "    - O(1) extra space.\n",
        "    - O(n) for the output array.\n",
        "  \"\"\"\n",
        "# Work Example\n",
        "\n",
        "nums = [1,2,4,6]\n",
        "solution = Solution()\n",
        "print(solution.productExceptSelf(nums))"
      ],
      "metadata": {
        "colab": {
          "base_uri": "https://localhost:8080/"
        },
        "id": "5lxCsGc-xo0k",
        "outputId": "ad813a3f-60cc-41bf-d048-08f192df0daa"
      },
      "execution_count": null,
      "outputs": [
        {
          "output_type": "stream",
          "name": "stdout",
          "text": [
            "[48, 24, 12, 8]\n"
          ]
        }
      ]
    },
    {
      "cell_type": "markdown",
      "source": [
        "### **128. Longest Consecutive Sequence**"
      ],
      "metadata": {
        "id": "SGUdS5HO0jin"
      }
    },
    {
      "cell_type": "code",
      "source": [
        "# 1. Brute Force\n",
        "\n",
        "class Solution:\n",
        "  def longestConsecutive(self, nums: list[int]) -> int:\n",
        "    res = 0\n",
        "    store = set(nums)\n",
        "\n",
        "    for num in nums:\n",
        "      streak, curr = 0, num\n",
        "      while curr in store:\n",
        "        streak += 1\n",
        "        curr += 1\n",
        "      res = max(res, streak)\n",
        "    return res\n",
        "\n",
        "# Time and Space Complexity\n",
        "  \"\"\"\n",
        "  Time Complexity: O(n^2)\n",
        "  Space Complexity: O(n)\n",
        "  \"\"\"\n",
        "# Work Example\n",
        "\n",
        "nums = [1,2,4,6]\n",
        "solution = Solution()\n",
        "print(solution.longestConsecutive(nums))\n"
      ],
      "metadata": {
        "colab": {
          "base_uri": "https://localhost:8080/"
        },
        "id": "KJddPTA20n9I",
        "outputId": "c58ddc6b-c90b-40c8-c51d-59e1946a8df4"
      },
      "execution_count": null,
      "outputs": [
        {
          "output_type": "stream",
          "name": "stdout",
          "text": [
            "2\n"
          ]
        }
      ]
    },
    {
      "cell_type": "code",
      "source": [
        "# 2. Sorting\n",
        "\n",
        "class Solution:\n",
        "  def longestConsecutive(self, nums: list[int]) -> int:\n",
        "    if not nums:\n",
        "      return 0\n",
        "    res = 0\n",
        "    nums.sort()\n",
        "\n",
        "    curr, streak = nums[0], 0\n",
        "    i = 0\n",
        "    while i < len(nums):\n",
        "      if curr != nums[i]:\n",
        "        curr = nums[i]\n",
        "        streak = 0\n",
        "      while i < len(nums) and nums[i] == curr:\n",
        "        i += 1\n",
        "      streak += 1\n",
        "      curr += 1\n",
        "      res = max(res, streak)\n",
        "    return res\n",
        "\n",
        "# Time and Space Complexity\n",
        "  \"\"\"\n",
        "  Time Complexity: O(nlogn)\n",
        "  Space Complexity: O(1)\n",
        "  \"\"\"\n",
        "# Work Example\n",
        "\n",
        "nums = [1,2,4,6]\n",
        "solution = Solution()\n",
        "print(solution.longestConsecutive(nums))"
      ],
      "metadata": {
        "colab": {
          "base_uri": "https://localhost:8080/"
        },
        "id": "vkUvg6OfHlWc",
        "outputId": "d8cff91c-0e07-41d9-ebaf-705c35742382"
      },
      "execution_count": null,
      "outputs": [
        {
          "output_type": "stream",
          "name": "stdout",
          "text": [
            "2\n"
          ]
        }
      ]
    },
    {
      "cell_type": "code",
      "source": [
        "# 3. Hash Set\n",
        "\n",
        "class Solution:\n",
        "  def longestConsecutive(self, nums: list[int]) -> int:\n",
        "    numSet = set(nums)\n",
        "    longest = 0\n",
        "\n",
        "    for num in nums:\n",
        "      if num - 1 not in numSet:\n",
        "        length = 1\n",
        "        while num + length in numSet:\n",
        "          length += 1\n",
        "        longest = max(length, longest)\n",
        "    return longest\n",
        "\n",
        "# Time and Space Complexity\n",
        "  \"\"\"\n",
        "  Time Complexity: O(n)\n",
        "  Space Complexity: O(n)\n",
        "  \"\"\"\n",
        "\n",
        "# Work Example\n",
        "\n",
        "nums = [1,2,4,6]\n",
        "solution = Solution()\n",
        "print(solution.longestConsecutive(nums))"
      ],
      "metadata": {
        "colab": {
          "base_uri": "https://localhost:8080/"
        },
        "id": "99h7UJLuK3ik",
        "outputId": "e38e8ef4-dca1-44b2-ee1e-a9397ec7da03"
      },
      "execution_count": null,
      "outputs": [
        {
          "output_type": "stream",
          "name": "stdout",
          "text": [
            "2\n"
          ]
        }
      ]
    },
    {
      "cell_type": "code",
      "source": [
        "# 4. Hash Map\n",
        "from collections import defaultdict\n",
        "\n",
        "class Solution:\n",
        "  def longestConsecutive(self, nums: list[int]) -> int:\n",
        "    mp = defaultdict(int)\n",
        "    res = 0\n",
        "\n",
        "    for num in nums:\n",
        "      if not mp[num]:\n",
        "        mp[num] = mp[num - 1] + mp[num + 1] + 1\n",
        "        mp[num - mp[num - 1]] = mp[num]\n",
        "        mp[num + mp[num + 1]] = mp[num]\n",
        "        res = max(res, mp[num])\n",
        "    return res\n",
        "\n",
        "# Time and Space Complexity\n",
        "  \"\"\"\n",
        "  Time Complexity: O(n)\n",
        "  Space Complexity: O(n)\n",
        "  \"\"\"\n",
        "\n",
        "# Work Example\n",
        "nums = [1,2,4,6]\n",
        "solution = Solution()\n",
        "print(solution.longestConsecutive(nums))"
      ],
      "metadata": {
        "colab": {
          "base_uri": "https://localhost:8080/"
        },
        "id": "LwSNbg_nM7yi",
        "outputId": "9f17717b-9c25-4049-dec5-d755f05b0c4b"
      },
      "execution_count": null,
      "outputs": [
        {
          "output_type": "stream",
          "name": "stdout",
          "text": [
            "2\n"
          ]
        }
      ]
    },
    {
      "cell_type": "markdown",
      "source": [
        "# **TWO POINTERS**"
      ],
      "metadata": {
        "id": "W6je9aGeSYO9"
      }
    },
    {
      "cell_type": "markdown",
      "source": [
        "### **125. Valid Palindrome**"
      ],
      "metadata": {
        "id": "MEP8Dd7kS-gE"
      }
    },
    {
      "cell_type": "code",
      "source": [
        "# 1. Reversing String\n",
        "\n",
        "class Solution:\n",
        "  def isPalindrome(self, s: str) -> bool:\n",
        "    cleaned = [c.lower() for c in s if c.isalnum()]\n",
        "    return cleaned == cleaned[::-1]\n",
        "\n",
        "# Time & Space Complexity:\n",
        "\"\"\"\n",
        "Time Complexity: O(n)\n",
        "Space Complexity: O(n)\n",
        "\"\"\"\n",
        "\n",
        "# Work Example\n",
        "s = \"A man, a plan, a canal: Panama\"\n",
        "solution = Solution()\n",
        "print(solution.isPalindrome(s))\n"
      ],
      "metadata": {
        "colab": {
          "base_uri": "https://localhost:8080/"
        },
        "id": "tZ6nTci6S9b1",
        "outputId": "be6b7c77-837f-412c-8828-8e5bf96282ac"
      },
      "execution_count": null,
      "outputs": [
        {
          "output_type": "stream",
          "name": "stdout",
          "text": [
            "True\n"
          ]
        }
      ]
    },
    {
      "cell_type": "code",
      "source": [
        "# Two Pointers\n",
        "\n",
        "class Solution:\n",
        "  def isPalindrome(self, s: str) -> bool:\n",
        "    l, r = 0, len(s) - 1\n",
        "\n",
        "    while l < r:\n",
        "       while l < r and not s[l].isalnum():\n",
        "        l += 1\n",
        "       while l < r and not s[r].isalnum():\n",
        "        r -= 1\n",
        "\n",
        "       if s[l].lower() != s[r].lower():\n",
        "        return False\n",
        "\n",
        "       l += 1\n",
        "       r -= 1\n",
        "    return True\n",
        "\n",
        "\n",
        "# Time & Space Complexity:\n",
        "\"\"\"\n",
        "Time Complexity: O(n)\n",
        "Space Complexity: O(1)\n",
        "\"\"\"\n",
        "\n",
        "# Work Example\n",
        "s = \"A man, a plan, a canal: Panama\"\n",
        "solution = Solution()\n",
        "print(solution.isPalindrome(s))\n"
      ],
      "metadata": {
        "id": "GcqYMkUhh6Ef",
        "colab": {
          "base_uri": "https://localhost:8080/"
        },
        "outputId": "f680af9b-e370-4718-85a4-7dbef81d8fc4"
      },
      "execution_count": 35,
      "outputs": [
        {
          "output_type": "stream",
          "name": "stdout",
          "text": [
            "True\n"
          ]
        }
      ]
    },
    {
      "cell_type": "markdown",
      "source": [
        "### **New Section**"
      ],
      "metadata": {
        "id": "RzCunaYintbv"
      }
    }
  ],
  "metadata": {
    "colab": {
      "provenance": [],
      "toc_visible": true,
      "include_colab_link": true
    },
    "kernelspec": {
      "display_name": "Python 3",
      "name": "python3"
    }
  },
  "nbformat": 4,
  "nbformat_minor": 0
}