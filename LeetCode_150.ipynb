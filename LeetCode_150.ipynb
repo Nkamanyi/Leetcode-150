{
  "cells": [
    {
      "cell_type": "markdown",
      "metadata": {
        "id": "view-in-github",
        "colab_type": "text"
      },
      "source": [
        "<a href=\"https://colab.research.google.com/github/Nkamanyi/Leetcode-150/blob/main/LeetCode_150.ipynb\" target=\"_parent\"><img src=\"https://colab.research.google.com/assets/colab-badge.svg\" alt=\"Open In Colab\"/></a>"
      ]
    },
    {
      "cell_type": "markdown",
      "source": [
        "# **LeetCode 150**"
      ],
      "metadata": {
        "id": "sO7JMyhIMoQS"
      }
    },
    {
      "cell_type": "markdown",
      "source": [
        "### **217. Contains Duplicate**"
      ],
      "metadata": {
        "id": "rXoDEUT0Mxu6"
      }
    },
    {
      "cell_type": "code",
      "source": [
        "# 1. Brute Force\n",
        "\n",
        "class Solution:\n",
        "  def hasDuplicates(self, nums: list[int]) -> bool:\n",
        "    for i in range(len(nums)):\n",
        "      for j in range(i + 1, len(nums)):\n",
        "        if nums[i] == nums[j]:\n",
        "          return True\n",
        "    return False\n",
        "\n",
        "# Time and Space Complexity\n",
        "  \"\"\"\n",
        "  Time Complexity: O(n^2)\n",
        "  Space Complexity: O(1)\n",
        "  \"\"\"\n",
        "# Work Example\n",
        "  nums = [1, 2, 3, 3]\n",
        "  solution = Solution()\n",
        "  print(solution.hasDuplicates(nums))"
      ],
      "metadata": {
        "id": "iHtKYbvFM26T",
        "colab": {
          "base_uri": "https://localhost:8080/"
        },
        "outputId": "f4e8f81b-670c-4502-c90d-461e23d491d1"
      },
      "execution_count": null,
      "outputs": [
        {
          "output_type": "stream",
          "name": "stdout",
          "text": [
            "True\n"
          ]
        }
      ]
    },
    {
      "cell_type": "code",
      "source": [
        "# 2. Sorting\n",
        "\n",
        "class Solution:\n",
        "  def hasDuplicates(self, nums: list[int]) -> bool:\n",
        "    nums.sort()\n",
        "    for i in range(1, len(nums)):\n",
        "      if nums[i] == nums[i - 1]:\n",
        "        return True\n",
        "    return False\n",
        "\n",
        "# Time and Space Complexity\n",
        "  \"\"\"\n",
        "  Time Complexity: O(nlogn)\n",
        "  Space Complexity: O(1) or O(n)\n",
        "  \"\"\"\n",
        "# Work Example\n",
        "  nums = [1, 2, 3, 3]\n",
        "  solution = Solution()\n",
        "  print(solution.hasDuplicates(nums))\n"
      ],
      "metadata": {
        "colab": {
          "base_uri": "https://localhost:8080/"
        },
        "id": "th3vuR_XVJjc",
        "outputId": "c754ea47-2e8e-45e5-8a24-7c626025cce6"
      },
      "execution_count": null,
      "outputs": [
        {
          "output_type": "stream",
          "name": "stdout",
          "text": [
            "True\n"
          ]
        }
      ]
    },
    {
      "cell_type": "code",
      "source": [
        "# 3. Hash Set\n",
        "\n",
        "class Solution:\n",
        "  def hasDuplicates(self, nums: list[int]) -> bool:\n",
        "    hashSet = set()\n",
        "    for num in nums:\n",
        "      if num in hashSet:\n",
        "        return True\n",
        "      hashSet.add(num)\n",
        "    return False\n",
        "\n",
        "# Time and Space Complexity\n",
        "  \"\"\"\n",
        "  Time Complexity: O(n)\n",
        "  Space Complexity: O(n)\n",
        "  \"\"\"\n",
        "\n",
        "# Work Example\n",
        "\n",
        "nums = [1, 2, 3, 3]\n",
        "solution = Solution()\n",
        "print(solution.hasDuplicates(nums))"
      ],
      "metadata": {
        "colab": {
          "base_uri": "https://localhost:8080/"
        },
        "id": "FoaTL2WabVM4",
        "outputId": "adf713a6-f188-43d9-99dc-131ad517ea1b"
      },
      "execution_count": null,
      "outputs": [
        {
          "output_type": "stream",
          "name": "stdout",
          "text": [
            "True\n"
          ]
        }
      ]
    },
    {
      "cell_type": "code",
      "source": [
        "# 4. Hash Set length\n",
        "class Solution:\n",
        "  def hasDuplicates(self, nums: list[nums]) -> bool:\n",
        "    return len(nums) != len(set(nums))\n",
        "\n",
        "# Time and Space Complexity\n",
        "    \"\"\"\n",
        "    Time Complexity: O(n)\n",
        "    Space Complexity: O(n)\n",
        "    \"\"\"\n",
        "# Work Example\n",
        "nums = [1, 2, 3, 3]\n",
        "solution = Solution()\n",
        "print(solution.hasDuplicates(nums))\n"
      ],
      "metadata": {
        "colab": {
          "base_uri": "https://localhost:8080/"
        },
        "id": "dMPw3qsUfTH-",
        "outputId": "d5b23960-c2f0-4b7f-c787-42c9711da8b6"
      },
      "execution_count": null,
      "outputs": [
        {
          "output_type": "stream",
          "name": "stdout",
          "text": [
            "True\n"
          ]
        }
      ]
    },
    {
      "cell_type": "markdown",
      "source": [
        "### **242. Valid Anagram**"
      ],
      "metadata": {
        "id": "HzyjIy0vkFD_"
      }
    },
    {
      "cell_type": "code",
      "source": [
        "# 1. Sorting\n",
        "\n",
        "class Solution:\n",
        "  def isAnagram(self, s: str, t: str) -> bool:\n",
        "    return sorted(s) == sorted(t)\n",
        "\n",
        "# Time and Space Complexity\n",
        "  \"\"\"\n",
        "  Time Complexity: O(nlogn+mlogm)\n",
        "  Space Complexity: O(n)\n",
        "  \"\"\"\n",
        "\n",
        "# Work Example\n",
        "s = \"anagram\"\n",
        "t = \"nagaram\"\n",
        "solution = Solution()\n",
        "print(solution.isAnagram(s, t))\n"
      ],
      "metadata": {
        "colab": {
          "base_uri": "https://localhost:8080/"
        },
        "id": "W62WflxekPTT",
        "outputId": "a71c68ec-4e63-4f5d-f489-d904caf74595"
      },
      "execution_count": null,
      "outputs": [
        {
          "output_type": "stream",
          "name": "stdout",
          "text": [
            "True\n"
          ]
        }
      ]
    },
    {
      "cell_type": "code",
      "source": [
        "# 2. Hash Map\n",
        "\n",
        "class Solution:\n",
        "  def isAnagram(self, s: str, t: str)-> bool:\n",
        "    if len(s) != len(t):\n",
        "      return False\n",
        "\n",
        "    countS, countT = {}, {}\n",
        "    for i in range(len(s)):\n",
        "      countS[s[i]] = countS.get(s[i], 0) + 1\n",
        "      countT[t[i]] = countT.get(t[i], 0) + 1\n",
        "    return countS == countT\n",
        "\n",
        "# Time and Space Complexity\n",
        "  \"\"\"\n",
        "  Time Complexity: O(n+m)\n",
        "  Space Complexity: O(1)\n",
        "  \"\"\"\n",
        "\n",
        "# Work Example\n",
        "s = \"anagram\"\n",
        "t = \"nagaram\"\n",
        "solution = Solution()\n",
        "print(solution.isAnagram(s, t))\n"
      ],
      "metadata": {
        "colab": {
          "base_uri": "https://localhost:8080/"
        },
        "id": "wjX9tg3wne5a",
        "outputId": "5dca9e15-a40d-41d9-b9b6-3e805902e952"
      },
      "execution_count": null,
      "outputs": [
        {
          "output_type": "stream",
          "name": "stdout",
          "text": [
            "True\n"
          ]
        }
      ]
    },
    {
      "cell_type": "code",
      "source": [
        "# 3. Hash Map Function \"Count\"\n",
        "from collections import Counter\n",
        "\n",
        "class Solution:\n",
        "  def isAnagram(self, s: str, t: str)-> bool:\n",
        "    return Counter(s) == Counter(t)\n",
        "\n",
        "\n",
        "# Time and Space Complexity\n",
        "  \"\"\"\n",
        "  Time Complexity: O(n+m)\n",
        "  Space Complexity: O(1)\n",
        "  \"\"\"\n",
        "\n",
        "# Work Example\n",
        "s = \"anagram\"\n",
        "t = \"nagaram\"\n",
        "solution = Solution()\n",
        "print(solution.isAnagram(s, t))\n"
      ],
      "metadata": {
        "colab": {
          "base_uri": "https://localhost:8080/"
        },
        "id": "hjKwWkL01Rby",
        "outputId": "0addc543-947f-462a-80c9-aade854b0189"
      },
      "execution_count": null,
      "outputs": [
        {
          "output_type": "stream",
          "name": "stdout",
          "text": [
            "True\n"
          ]
        }
      ]
    },
    {
      "cell_type": "markdown",
      "source": [
        "### **1. Two Sum**"
      ],
      "metadata": {
        "id": "DBrf8UZoxf6-"
      }
    },
    {
      "cell_type": "code",
      "source": [
        "# 1. Brute Force\n",
        "\n",
        "class Solution:\n",
        "  def twoSum(self, nums: list[int], target: int) -> list[int]:\n",
        "    for i in range(len(nums)):\n",
        "      for j in range(i + 1, len(nums)):\n",
        "        if nums[i] + nums[j] == target:\n",
        "          return [i, j]\n",
        "    return []\n",
        "\n",
        "# Time and Space Complexity\n",
        "  \"\"\"\n",
        "  Time Complexity: O(n^2)\n",
        "  Space Complexity: O(1)\n",
        "  \"\"\"\n",
        "\n",
        "# Work Example\n",
        "nums = [2, 7, 11, 15]\n",
        "target = 9\n",
        "solution = Solution()\n",
        "print(solution.twoSum(nums, target))\n",
        "\n"
      ],
      "metadata": {
        "colab": {
          "base_uri": "https://localhost:8080/"
        },
        "id": "txwmKSOK-Tgb",
        "outputId": "35fd03d4-57d6-46e6-f3a8-66d33294b42e"
      },
      "execution_count": null,
      "outputs": [
        {
          "output_type": "stream",
          "name": "stdout",
          "text": [
            "[0, 1]\n"
          ]
        }
      ]
    },
    {
      "cell_type": "code",
      "source": [
        "# 2. Hash Map (One Pass)\n",
        "\n",
        "class Solution:\n",
        "  def twoSum(self, nums: list[int], target: int) -> list[int]:\n",
        "\n",
        "    hashmap = {}\n",
        "\n",
        "    for i, num in enumerate(nums):\n",
        "      diff = target - num\n",
        "      if diff in hashmap:\n",
        "        return [hashmap[diff], i]\n",
        "      hashmap[num] = i\n",
        "\n",
        "# Time and Space Complexity\n",
        "  \"\"\"\n",
        "  Time Complexity: O(n)\n",
        "  Space Complexity: O(n)\n",
        "  \"\"\"\n",
        "\n",
        "# Work Example\n",
        "nums = [2, 7, 11, 15]\n",
        "target = 9\n",
        "solution = Solution()\n",
        "print(solution.twoSum(nums, target))\n",
        "\n",
        "\n"
      ],
      "metadata": {
        "colab": {
          "base_uri": "https://localhost:8080/"
        },
        "id": "m4kvPrTTB6b0",
        "outputId": "ec5c5a89-ed80-47fa-b779-2d32383352fb"
      },
      "execution_count": null,
      "outputs": [
        {
          "output_type": "stream",
          "name": "stdout",
          "text": [
            "[0, 1]\n"
          ]
        }
      ]
    },
    {
      "cell_type": "markdown",
      "source": [
        "### **49. Group Anagrams**"
      ],
      "metadata": {
        "id": "80K7es9GAt1e"
      }
    },
    {
      "cell_type": "code",
      "source": [
        "# 1. Sorting\n",
        "\n",
        "from collections import defaultdict\n",
        "class Solution:\n",
        "  def groupAnagrams(self, strs: list[str]) -> list[list[str]]:\n",
        "    res = defaultdict(list)\n",
        "\n",
        "    for s in strs:\n",
        "      sorted_s = ''.join(sorted(s)) # sorted() returns a list, so we want to convert it back to a string.\n",
        "      res[sorted_s].append(s)\n",
        "    return list(res.values())\n",
        "\n",
        "# Work Example\n",
        "strs = [\"act\",\"pots\",\"tops\",\"cat\",\"stop\",\"hat\"]\n",
        "solution = Solution()\n",
        "print(solution.groupAnagrams(strs))"
      ],
      "metadata": {
        "colab": {
          "base_uri": "https://localhost:8080/"
        },
        "id": "NoFi3nnxA6hK",
        "outputId": "a04768a7-c67e-44ab-a9d7-357df58f9e2c"
      },
      "execution_count": null,
      "outputs": [
        {
          "output_type": "stream",
          "name": "stdout",
          "text": [
            "[['act', 'cat'], ['pots', 'tops', 'stop'], ['hat']]\n"
          ]
        }
      ]
    },
    {
      "cell_type": "code",
      "source": [],
      "metadata": {
        "id": "X-s38ZiBXPr-"
      },
      "execution_count": null,
      "outputs": []
    },
    {
      "cell_type": "markdown",
      "source": [
        "### **347. Top K Frequent Elements**"
      ],
      "metadata": {
        "id": "LXHFv12Jbq4i"
      }
    },
    {
      "cell_type": "code",
      "source": [
        "# 1. Bucket Sort\n",
        "from collections import Counter\n",
        "\n",
        "class Solution:\n",
        "  def topKFrequentElements(self, nums: list[int], k) -> list[int]:\n",
        "\n",
        "      counter = Counter(nums)\n",
        "\n",
        "# Frequency bucket\n",
        "      bucket = [[] for _ in range(len(nums) + 1)]\n",
        "      for num, freq in counter.items():\n",
        "        bucket[freq].append(num)\n",
        "\n",
        "# Collect k from frequency\n",
        "      res = []\n",
        "      for i in range(len(bucket) - 1, 0, -1):\n",
        "        for n in bucket[i]:\n",
        "          res.append(n)\n",
        "          if len(res) == k:\n",
        "            return res\n",
        "\n",
        "# Time and Space Complexity\n",
        "  \"\"\"\n",
        "  Time Complexity: O(n)\n",
        "  Space Complexity: O(n)\n",
        "  \"\"\"\n",
        "\n",
        "\n",
        "# Work Example\n",
        "\n",
        "nums, k = [1,2,2,3,3,3], 2\n",
        "\n",
        "solution = Solution()\n",
        "print(solution.topKFrequentElements(nums, k))"
      ],
      "metadata": {
        "colab": {
          "base_uri": "https://localhost:8080/"
        },
        "id": "S5iRHFd2buJf",
        "outputId": "39db781f-6572-4354-847e-7a06354fe6e7"
      },
      "execution_count": 15,
      "outputs": [
        {
          "output_type": "stream",
          "name": "stdout",
          "text": [
            "[3, 2]\n"
          ]
        }
      ]
    },
    {
      "cell_type": "code",
      "source": [
        "# 2. Sorting\n",
        "\n",
        "class Solution:\n",
        "  def topKFrequentElements(self, nums: list[int], k: int) -> list[int]:\n",
        "        count = {}\n",
        "        for num in nums:\n",
        "          count[num] = 1 + count.get(num, 0)\n",
        "\n",
        "        arr = []\n",
        "        for num, cnt in count.items():\n",
        "          arr.append([cnt, num])\n",
        "        arr.sort()\n",
        "\n",
        "        res = []\n",
        "        while len(res) < k:\n",
        "          res.append(arr.pop()[1])\n",
        "        return res\n",
        "\n",
        "\n",
        "# Time and Space Complexity\n",
        "  \"\"\"\n",
        "  Time Complexity: O(nlogn)\n",
        "  Space Complexity: O(n)\n",
        "  \"\"\"\n",
        "\n",
        "\n",
        "# Work Example\n",
        "\n",
        "nums, k = [1,2,2,3,3,3], 2\n",
        "\n",
        "solution = Solution()\n",
        "print(solution.topKFrequentElements(nums, k))"
      ],
      "metadata": {
        "colab": {
          "base_uri": "https://localhost:8080/"
        },
        "id": "TmFBlETfRMav",
        "outputId": "38529d79-44eb-4253-f328-ca7924a3635d"
      },
      "execution_count": 79,
      "outputs": [
        {
          "output_type": "stream",
          "name": "stdout",
          "text": [
            "[3, 2]\n"
          ]
        }
      ]
    },
    {
      "cell_type": "code",
      "source": [
        "# 3. Min-Heap\n",
        "import heapq\n",
        "\n",
        "class Solution:\n",
        "  def topKFrequentElements(self, nums: list[int], k: int) -> list[int]:\n",
        "      count = {}\n",
        "      for num in nums:\n",
        "        count[num] = 1 + count.get(num, 0)\n",
        "\n",
        "      heap = []\n",
        "      for num in count.keys():\n",
        "        heapq.heappush(heap, (count[num], num))\n",
        "        if len(heap) > k:\n",
        "          heapq.heappop(heap)\n",
        "\n",
        "      res = []\n",
        "      for i in range(k):\n",
        "        res.append(heapq.heappop(heap)[1])\n",
        "      return res\n",
        "\n",
        "# Time and Space Complexity\n",
        "  \"\"\"\n",
        "  Time Complexity: O(nlogn)\n",
        "  Space Complexity: O(n)\n",
        "  \"\"\"\n",
        "\n",
        "\n",
        "# Work Example\n",
        "\n",
        "nums, k = [1,2,2,3,3,3], 2\n",
        "\n",
        "solution = Solution()\n",
        "print(solution.topKFrequentElements(nums, k))"
      ],
      "metadata": {
        "colab": {
          "base_uri": "https://localhost:8080/"
        },
        "id": "glMxm2zaWG4g",
        "outputId": "00c06bd5-70a3-4065-c2fa-60b47cc16af2"
      },
      "execution_count": 81,
      "outputs": [
        {
          "output_type": "stream",
          "name": "stdout",
          "text": [
            "[2, 3]\n"
          ]
        }
      ]
    }
  ],
  "metadata": {
    "colab": {
      "provenance": [],
      "toc_visible": true,
      "include_colab_link": true
    },
    "kernelspec": {
      "display_name": "Python 3",
      "name": "python3"
    }
  },
  "nbformat": 4,
  "nbformat_minor": 0
}